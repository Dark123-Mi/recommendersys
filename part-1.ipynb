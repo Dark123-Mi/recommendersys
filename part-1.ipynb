{
 "cells": [
  {
   "cell_type": "code",
   "execution_count": 1,
   "id": "e16f24f2",
   "metadata": {},
   "outputs": [],
   "source": [
    "import spotipy\n",
    "from spotipy.oauth2 import SpotifyClientCredentials"
   ]
  },
  {
   "cell_type": "code",
   "execution_count": 2,
   "id": "2b03e763",
   "metadata": {},
   "outputs": [],
   "source": [
    "client_credentials_manager = SpotifyClientCredentials(client_id='2a5599efdee1434ca8f1da2b84ad56bf', client_secret='f3010e2f65c24e2286d5b4059c19e02c')\n",
    "# client_id and client_secret are my spotify account's generated id's\n",
    "sp = spotipy.Spotify(client_credentials_manager = client_credentials_manager)"
   ]
  },
  {
   "cell_type": "code",
   "execution_count": null,
   "id": "21a5acf4",
   "metadata": {},
   "outputs": [],
   "source": [
    "playlist_link = \"playlist link\"\n",
    "playlist_URI = playlist_link.split(\"/\")[-1].split(\"?\")[0]\n",
    "track_uris = [x[\"track\"][\"uri\"] for x in sp.playlist_tracks(playlist_URI)[\"items\"]]"
   ]
  },
  {
   "cell_type": "code",
   "execution_count": null,
   "id": "4dc916f7",
   "metadata": {},
   "outputs": [],
   "source": [
    "for track in sp.playlist_tracks(playlist_URI)[\"items\"]:\n",
    "    #URI\n",
    "    track_uri = track[\"track\"][\"uri\"]\n",
    "    \n",
    "    #Track name\n",
    "    track_name = track[\"track\"][\"name\"]\n",
    "    \n",
    "    #Main Artist\n",
    "    artist_uri = track[\"track\"][\"artists\"][0][\"uri\"]\n",
    "    artist_info = sp.artist(artist_uri)\n",
    "    \n",
    "    #Name, popularity, genre\n",
    "    artist_name = track[\"track\"][\"artists\"][0][\"name\"]\n",
    "    artist_pop = artist_info[\"popularity\"]\n",
    "    artist_genres = artist_info[\"genres\"]\n",
    "    \n",
    "    #Album\n",
    "    album = track[\"track\"][\"album\"][\"name\"]\n",
    "    \n",
    "    #Popularity of the track\n",
    "    track_pop = track[\"track\"][\"popularity\"]"
   ]
  },
  {
   "cell_type": "code",
   "execution_count": null,
   "id": "31b16273",
   "metadata": {},
   "outputs": [],
   "source": [
    "sp.audio_features(track_uri)[0]"
   ]
  }
 ],
 "metadata": {
  "kernelspec": {
   "display_name": "Python 3 (ipykernel)",
   "language": "python",
   "name": "python3"
  },
  "language_info": {
   "codemirror_mode": {
    "name": "ipython",
    "version": 3
   },
   "file_extension": ".py",
   "mimetype": "text/x-python",
   "name": "python",
   "nbconvert_exporter": "python",
   "pygments_lexer": "ipython3",
   "version": "3.9.7"
  }
 },
 "nbformat": 4,
 "nbformat_minor": 5
}
